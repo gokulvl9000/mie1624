{
 "cells": [
  {
   "cell_type": "markdown",
   "id": "fdd521e6",
   "metadata": {},
   "source": [
    "# Ravi_1008312309_assignment1\n"
   ]
  },
  {
   "cell_type": "markdown",
   "id": "b7b2cf82",
   "metadata": {},
   "source": [
    "# MIE1624H1 – Introduction to Data Science and Analytics – ASSIGNMENT – 1\n",
    "***Gokul Ravi - Student Number 1008312309***"
   ]
  },
  {
   "cell_type": "code",
   "execution_count": 31,
   "id": "5d57f5f0",
   "metadata": {
    "scrolled": true
   },
   "outputs": [
    {
     "name": "stdout",
     "output_type": "stream",
     "text": [
      "Defaulting to user installation because normal site-packages is not writeable\n",
      "Requirement already satisfied: pingouin in c:\\users\\gokul\\appdata\\roaming\\python\\python39\\site-packages (0.5.3)\n",
      "Requirement already satisfied: pandas-flavor>=0.2.0 in c:\\users\\gokul\\appdata\\roaming\\python\\python39\\site-packages (from pingouin) (0.5.0)\n",
      "Requirement already satisfied: pandas>=1.0 in c:\\programdata\\anaconda3\\lib\\site-packages (from pingouin) (1.4.4)\n",
      "Requirement already satisfied: tabulate in c:\\programdata\\anaconda3\\lib\\site-packages (from pingouin) (0.8.10)\n",
      "Requirement already satisfied: scikit-learn in c:\\programdata\\anaconda3\\lib\\site-packages (from pingouin) (1.0.2)\n",
      "Requirement already satisfied: numpy>=1.19 in c:\\programdata\\anaconda3\\lib\\site-packages (from pingouin) (1.21.5)\n",
      "Requirement already satisfied: outdated in c:\\users\\gokul\\appdata\\roaming\\python\\python39\\site-packages (from pingouin) (0.2.2)\n",
      "Requirement already satisfied: matplotlib>=3.0.2 in c:\\programdata\\anaconda3\\lib\\site-packages (from pingouin) (3.5.2)\n",
      "Requirement already satisfied: scipy>=1.7 in c:\\programdata\\anaconda3\\lib\\site-packages (from pingouin) (1.9.1)\n",
      "Requirement already satisfied: seaborn>=0.11 in c:\\programdata\\anaconda3\\lib\\site-packages (from pingouin) (0.11.2)\n",
      "Requirement already satisfied: statsmodels>=0.13 in c:\\programdata\\anaconda3\\lib\\site-packages (from pingouin) (0.13.2)\n",
      "Requirement already satisfied: kiwisolver>=1.0.1 in c:\\programdata\\anaconda3\\lib\\site-packages (from matplotlib>=3.0.2->pingouin) (1.4.2)\n",
      "Requirement already satisfied: packaging>=20.0 in c:\\programdata\\anaconda3\\lib\\site-packages (from matplotlib>=3.0.2->pingouin) (21.3)\n",
      "Requirement already satisfied: python-dateutil>=2.7 in c:\\programdata\\anaconda3\\lib\\site-packages (from matplotlib>=3.0.2->pingouin) (2.8.2)\n",
      "Requirement already satisfied: fonttools>=4.22.0 in c:\\programdata\\anaconda3\\lib\\site-packages (from matplotlib>=3.0.2->pingouin) (4.25.0)\n",
      "Requirement already satisfied: cycler>=0.10 in c:\\programdata\\anaconda3\\lib\\site-packages (from matplotlib>=3.0.2->pingouin) (0.11.0)\n",
      "Requirement already satisfied: pillow>=6.2.0 in c:\\programdata\\anaconda3\\lib\\site-packages (from matplotlib>=3.0.2->pingouin) (9.2.0)\n",
      "Requirement already satisfied: pyparsing>=2.2.1 in c:\\programdata\\anaconda3\\lib\\site-packages (from matplotlib>=3.0.2->pingouin) (3.0.9)\n",
      "Requirement already satisfied: pytz>=2020.1 in c:\\programdata\\anaconda3\\lib\\site-packages (from pandas>=1.0->pingouin) (2022.1)\n",
      "Requirement already satisfied: xarray in c:\\programdata\\anaconda3\\lib\\site-packages (from pandas-flavor>=0.2.0->pingouin) (0.20.1)\n",
      "Requirement already satisfied: lazy-loader>=0.1 in c:\\users\\gokul\\appdata\\roaming\\python\\python39\\site-packages (from pandas-flavor>=0.2.0->pingouin) (0.1)\n",
      "Requirement already satisfied: patsy>=0.5.2 in c:\\programdata\\anaconda3\\lib\\site-packages (from statsmodels>=0.13->pingouin) (0.5.2)\n",
      "Requirement already satisfied: littleutils in c:\\users\\gokul\\appdata\\roaming\\python\\python39\\site-packages (from outdated->pingouin) (0.2.2)\n",
      "Requirement already satisfied: setuptools>=44 in c:\\programdata\\anaconda3\\lib\\site-packages (from outdated->pingouin) (63.4.1)\n",
      "Requirement already satisfied: requests in c:\\programdata\\anaconda3\\lib\\site-packages (from outdated->pingouin) (2.28.1)\n",
      "Requirement already satisfied: threadpoolctl>=2.0.0 in c:\\programdata\\anaconda3\\lib\\site-packages (from scikit-learn->pingouin) (2.2.0)\n",
      "Requirement already satisfied: joblib>=0.11 in c:\\programdata\\anaconda3\\lib\\site-packages (from scikit-learn->pingouin) (1.1.0)\n",
      "Requirement already satisfied: six in c:\\programdata\\anaconda3\\lib\\site-packages (from patsy>=0.5.2->statsmodels>=0.13->pingouin) (1.16.0)\n",
      "Requirement already satisfied: charset-normalizer<3,>=2 in c:\\programdata\\anaconda3\\lib\\site-packages (from requests->outdated->pingouin) (2.0.4)\n",
      "Requirement already satisfied: certifi>=2017.4.17 in c:\\programdata\\anaconda3\\lib\\site-packages (from requests->outdated->pingouin) (2022.9.14)\n",
      "Requirement already satisfied: idna<4,>=2.5 in c:\\programdata\\anaconda3\\lib\\site-packages (from requests->outdated->pingouin) (3.3)\n",
      "Requirement already satisfied: urllib3<1.27,>=1.21.1 in c:\\programdata\\anaconda3\\lib\\site-packages (from requests->outdated->pingouin) (1.26.11)\n"
     ]
    }
   ],
   "source": [
    "#installing pingouin library\n",
    "!pip install pingouin"
   ]
  },
  {
   "cell_type": "code",
   "execution_count": 32,
   "id": "cbe7a949",
   "metadata": {},
   "outputs": [],
   "source": [
    "#importing libraries required pandas, matplotlib, numpy, scipy & pingouin\n",
    "import matplotlib.pyplot as plt\n",
    "import pandas as pd\n",
    "import numpy as np\n",
    "from scipy import stats as sp\n",
    "import pingouin as pg"
   ]
  },
  {
   "cell_type": "code",
   "execution_count": 33,
   "id": "9e85abc9",
   "metadata": {},
   "outputs": [
    {
     "name": "stdout",
     "output_type": "stream",
     "text": [
      "3.9.13 (main, Aug 25 2022, 23:51:50) [MSC v.1916 64 bit (AMD64)]\n"
     ]
    }
   ],
   "source": [
    "import sys\n",
    "print(sys.version)"
   ]
  },
  {
   "cell_type": "code",
   "execution_count": 34,
   "id": "15a58507",
   "metadata": {},
   "outputs": [
    {
     "name": "stderr",
     "output_type": "stream",
     "text": [
      "C:\\Users\\gokul\\AppData\\Local\\Temp\\ipykernel_4964\\48802872.py:2: DtypeWarning: Columns (285) have mixed types. Specify dtype option on import or set low_memory=False.\n",
      "  table=pd.read_csv(\"clean_kaggle_data.csv\")\n"
     ]
    },
    {
     "data": {
      "text/html": [
       "<div>\n",
       "<style scoped>\n",
       "    .dataframe tbody tr th:only-of-type {\n",
       "        vertical-align: middle;\n",
       "    }\n",
       "\n",
       "    .dataframe tbody tr th {\n",
       "        vertical-align: top;\n",
       "    }\n",
       "\n",
       "    .dataframe thead th {\n",
       "        text-align: right;\n",
       "    }\n",
       "</style>\n",
       "<table border=\"1\" class=\"dataframe\">\n",
       "  <thead>\n",
       "    <tr style=\"text-align: right;\">\n",
       "      <th></th>\n",
       "      <th>Unnamed: 0</th>\n",
       "      <th>Time from Start to Finish (seconds)</th>\n",
       "      <th>Q1</th>\n",
       "      <th>Q2</th>\n",
       "      <th>Q3</th>\n",
       "      <th>Q4</th>\n",
       "      <th>Q5</th>\n",
       "      <th>Q6</th>\n",
       "      <th>Q7_Part_1</th>\n",
       "      <th>Q7_Part_2</th>\n",
       "      <th>...</th>\n",
       "      <th>Q38_B_Part_3</th>\n",
       "      <th>Q38_B_Part_4</th>\n",
       "      <th>Q38_B_Part_5</th>\n",
       "      <th>Q38_B_Part_6</th>\n",
       "      <th>Q38_B_Part_7</th>\n",
       "      <th>Q38_B_Part_8</th>\n",
       "      <th>Q38_B_Part_9</th>\n",
       "      <th>Q38_B_Part_10</th>\n",
       "      <th>Q38_B_Part_11</th>\n",
       "      <th>Q38_B_OTHER</th>\n",
       "    </tr>\n",
       "  </thead>\n",
       "  <tbody>\n",
       "    <tr>\n",
       "      <th>0</th>\n",
       "      <td>1</td>\n",
       "      <td>910</td>\n",
       "      <td>50-54</td>\n",
       "      <td>Man</td>\n",
       "      <td>India</td>\n",
       "      <td>Bachelor’s degree</td>\n",
       "      <td>Other</td>\n",
       "      <td>5-10 years</td>\n",
       "      <td>Python</td>\n",
       "      <td>R</td>\n",
       "      <td>...</td>\n",
       "      <td>NaN</td>\n",
       "      <td>NaN</td>\n",
       "      <td>NaN</td>\n",
       "      <td>NaN</td>\n",
       "      <td>NaN</td>\n",
       "      <td>NaN</td>\n",
       "      <td>NaN</td>\n",
       "      <td>NaN</td>\n",
       "      <td>NaN</td>\n",
       "      <td>NaN</td>\n",
       "    </tr>\n",
       "    <tr>\n",
       "      <th>1</th>\n",
       "      <td>2</td>\n",
       "      <td>784</td>\n",
       "      <td>50-54</td>\n",
       "      <td>Man</td>\n",
       "      <td>Indonesia</td>\n",
       "      <td>Master’s degree</td>\n",
       "      <td>Program/Project Manager</td>\n",
       "      <td>20+ years</td>\n",
       "      <td>NaN</td>\n",
       "      <td>NaN</td>\n",
       "      <td>...</td>\n",
       "      <td>NaN</td>\n",
       "      <td>NaN</td>\n",
       "      <td>NaN</td>\n",
       "      <td>NaN</td>\n",
       "      <td>NaN</td>\n",
       "      <td>NaN</td>\n",
       "      <td>NaN</td>\n",
       "      <td>NaN</td>\n",
       "      <td>None</td>\n",
       "      <td>NaN</td>\n",
       "    </tr>\n",
       "    <tr>\n",
       "      <th>2</th>\n",
       "      <td>3</td>\n",
       "      <td>924</td>\n",
       "      <td>22-24</td>\n",
       "      <td>Man</td>\n",
       "      <td>Pakistan</td>\n",
       "      <td>Master’s degree</td>\n",
       "      <td>Software Engineer</td>\n",
       "      <td>1-3 years</td>\n",
       "      <td>Python</td>\n",
       "      <td>NaN</td>\n",
       "      <td>...</td>\n",
       "      <td>NaN</td>\n",
       "      <td>NaN</td>\n",
       "      <td>TensorBoard</td>\n",
       "      <td>NaN</td>\n",
       "      <td>NaN</td>\n",
       "      <td>NaN</td>\n",
       "      <td>NaN</td>\n",
       "      <td>NaN</td>\n",
       "      <td>NaN</td>\n",
       "      <td>NaN</td>\n",
       "    </tr>\n",
       "    <tr>\n",
       "      <th>3</th>\n",
       "      <td>4</td>\n",
       "      <td>575</td>\n",
       "      <td>45-49</td>\n",
       "      <td>Man</td>\n",
       "      <td>Mexico</td>\n",
       "      <td>Doctoral degree</td>\n",
       "      <td>Research Scientist</td>\n",
       "      <td>20+ years</td>\n",
       "      <td>Python</td>\n",
       "      <td>NaN</td>\n",
       "      <td>...</td>\n",
       "      <td>NaN</td>\n",
       "      <td>NaN</td>\n",
       "      <td>NaN</td>\n",
       "      <td>NaN</td>\n",
       "      <td>NaN</td>\n",
       "      <td>NaN</td>\n",
       "      <td>NaN</td>\n",
       "      <td>NaN</td>\n",
       "      <td>None</td>\n",
       "      <td>NaN</td>\n",
       "    </tr>\n",
       "    <tr>\n",
       "      <th>4</th>\n",
       "      <td>5</td>\n",
       "      <td>781</td>\n",
       "      <td>45-49</td>\n",
       "      <td>Man</td>\n",
       "      <td>India</td>\n",
       "      <td>Doctoral degree</td>\n",
       "      <td>Other</td>\n",
       "      <td>&lt; 1 years</td>\n",
       "      <td>Python</td>\n",
       "      <td>NaN</td>\n",
       "      <td>...</td>\n",
       "      <td>NaN</td>\n",
       "      <td>NaN</td>\n",
       "      <td>NaN</td>\n",
       "      <td>NaN</td>\n",
       "      <td>NaN</td>\n",
       "      <td>NaN</td>\n",
       "      <td>NaN</td>\n",
       "      <td>NaN</td>\n",
       "      <td>NaN</td>\n",
       "      <td>NaN</td>\n",
       "    </tr>\n",
       "  </tbody>\n",
       "</table>\n",
       "<p>5 rows × 370 columns</p>\n",
       "</div>"
      ],
      "text/plain": [
       "   Unnamed: 0  Time from Start to Finish (seconds)     Q1   Q2         Q3  \\\n",
       "0           1                                  910  50-54  Man      India   \n",
       "1           2                                  784  50-54  Man  Indonesia   \n",
       "2           3                                  924  22-24  Man   Pakistan   \n",
       "3           4                                  575  45-49  Man     Mexico   \n",
       "4           5                                  781  45-49  Man      India   \n",
       "\n",
       "                  Q4                       Q5          Q6 Q7_Part_1 Q7_Part_2  \\\n",
       "0  Bachelor’s degree                    Other  5-10 years    Python         R   \n",
       "1    Master’s degree  Program/Project Manager   20+ years       NaN       NaN   \n",
       "2    Master’s degree        Software Engineer   1-3 years    Python       NaN   \n",
       "3    Doctoral degree       Research Scientist   20+ years    Python       NaN   \n",
       "4    Doctoral degree                    Other   < 1 years    Python       NaN   \n",
       "\n",
       "   ... Q38_B_Part_3 Q38_B_Part_4   Q38_B_Part_5 Q38_B_Part_6 Q38_B_Part_7  \\\n",
       "0  ...          NaN          NaN            NaN          NaN          NaN   \n",
       "1  ...          NaN          NaN            NaN          NaN          NaN   \n",
       "2  ...          NaN          NaN   TensorBoard           NaN          NaN   \n",
       "3  ...          NaN          NaN            NaN          NaN          NaN   \n",
       "4  ...          NaN          NaN            NaN          NaN          NaN   \n",
       "\n",
       "  Q38_B_Part_8 Q38_B_Part_9 Q38_B_Part_10 Q38_B_Part_11 Q38_B_OTHER  \n",
       "0          NaN          NaN           NaN           NaN         NaN  \n",
       "1          NaN          NaN           NaN          None         NaN  \n",
       "2          NaN          NaN           NaN           NaN         NaN  \n",
       "3          NaN          NaN           NaN          None         NaN  \n",
       "4          NaN          NaN           NaN           NaN         NaN  \n",
       "\n",
       "[5 rows x 370 columns]"
      ]
     },
     "execution_count": 34,
     "metadata": {},
     "output_type": "execute_result"
    }
   ],
   "source": [
    "#reading the data\n",
    "table=pd.read_csv(\"clean_kaggle_data.csv\")\n",
    "table.head()"
   ]
  },
  {
   "cell_type": "code",
   "execution_count": 35,
   "id": "1ad2a598",
   "metadata": {},
   "outputs": [
    {
     "data": {
      "text/html": [
       "<div>\n",
       "<style scoped>\n",
       "    .dataframe tbody tr th:only-of-type {\n",
       "        vertical-align: middle;\n",
       "    }\n",
       "\n",
       "    .dataframe tbody tr th {\n",
       "        vertical-align: top;\n",
       "    }\n",
       "\n",
       "    .dataframe thead th {\n",
       "        text-align: right;\n",
       "    }\n",
       "</style>\n",
       "<table border=\"1\" class=\"dataframe\">\n",
       "  <thead>\n",
       "    <tr style=\"text-align: right;\">\n",
       "      <th></th>\n",
       "      <th>Q1</th>\n",
       "      <th>Q2</th>\n",
       "      <th>Q3</th>\n",
       "      <th>Q4</th>\n",
       "      <th>Q6</th>\n",
       "      <th>Q25</th>\n",
       "    </tr>\n",
       "  </thead>\n",
       "  <tbody>\n",
       "    <tr>\n",
       "      <th>0</th>\n",
       "      <td>50-54</td>\n",
       "      <td>Man</td>\n",
       "      <td>India</td>\n",
       "      <td>Bachelor’s degree</td>\n",
       "      <td>5-10 years</td>\n",
       "      <td>30000</td>\n",
       "    </tr>\n",
       "    <tr>\n",
       "      <th>1</th>\n",
       "      <td>50-54</td>\n",
       "      <td>Man</td>\n",
       "      <td>Indonesia</td>\n",
       "      <td>Master’s degree</td>\n",
       "      <td>20+ years</td>\n",
       "      <td>70000</td>\n",
       "    </tr>\n",
       "    <tr>\n",
       "      <th>2</th>\n",
       "      <td>22-24</td>\n",
       "      <td>Man</td>\n",
       "      <td>Pakistan</td>\n",
       "      <td>Master’s degree</td>\n",
       "      <td>1-3 years</td>\n",
       "      <td>1000</td>\n",
       "    </tr>\n",
       "    <tr>\n",
       "      <th>3</th>\n",
       "      <td>45-49</td>\n",
       "      <td>Man</td>\n",
       "      <td>Mexico</td>\n",
       "      <td>Doctoral degree</td>\n",
       "      <td>20+ years</td>\n",
       "      <td>40000</td>\n",
       "    </tr>\n",
       "    <tr>\n",
       "      <th>4</th>\n",
       "      <td>45-49</td>\n",
       "      <td>Man</td>\n",
       "      <td>India</td>\n",
       "      <td>Doctoral degree</td>\n",
       "      <td>&lt; 1 years</td>\n",
       "      <td>40000</td>\n",
       "    </tr>\n",
       "  </tbody>\n",
       "</table>\n",
       "</div>"
      ],
      "text/plain": [
       "      Q1   Q2         Q3                 Q4          Q6    Q25\n",
       "0  50-54  Man      India  Bachelor’s degree  5-10 years  30000\n",
       "1  50-54  Man  Indonesia    Master’s degree   20+ years  70000\n",
       "2  22-24  Man   Pakistan    Master’s degree   1-3 years   1000\n",
       "3  45-49  Man     Mexico    Doctoral degree   20+ years  40000\n",
       "4  45-49  Man      India    Doctoral degree   < 1 years  40000"
      ]
     },
     "execution_count": 35,
     "metadata": {},
     "output_type": "execute_result"
    }
   ],
   "source": [
    "table1=table[[\"Q1\", \"Q2\", \"Q3\", \"Q4\", \"Q6\",\"Q25\"]] # new data\n",
    "table1.head()"
   ]
  },
  {
   "cell_type": "code",
   "execution_count": 36,
   "id": "3f982964",
   "metadata": {
    "scrolled": true
   },
   "outputs": [
    {
     "data": {
      "text/html": [
       "<div>\n",
       "<style scoped>\n",
       "    .dataframe tbody tr th:only-of-type {\n",
       "        vertical-align: middle;\n",
       "    }\n",
       "\n",
       "    .dataframe tbody tr th {\n",
       "        vertical-align: top;\n",
       "    }\n",
       "\n",
       "    .dataframe thead th {\n",
       "        text-align: right;\n",
       "    }\n",
       "</style>\n",
       "<table border=\"1\" class=\"dataframe\">\n",
       "  <thead>\n",
       "    <tr style=\"text-align: right;\">\n",
       "      <th></th>\n",
       "      <th>Q25</th>\n",
       "    </tr>\n",
       "  </thead>\n",
       "  <tbody>\n",
       "    <tr>\n",
       "      <th>count</th>\n",
       "      <td>15391.000000</td>\n",
       "    </tr>\n",
       "    <tr>\n",
       "      <th>mean</th>\n",
       "      <td>49116.009356</td>\n",
       "    </tr>\n",
       "    <tr>\n",
       "      <th>std</th>\n",
       "      <td>98090.207788</td>\n",
       "    </tr>\n",
       "    <tr>\n",
       "      <th>min</th>\n",
       "      <td>1000.000000</td>\n",
       "    </tr>\n",
       "    <tr>\n",
       "      <th>25%</th>\n",
       "      <td>2000.000000</td>\n",
       "    </tr>\n",
       "    <tr>\n",
       "      <th>50%</th>\n",
       "      <td>15000.000000</td>\n",
       "    </tr>\n",
       "    <tr>\n",
       "      <th>75%</th>\n",
       "      <td>60000.000000</td>\n",
       "    </tr>\n",
       "    <tr>\n",
       "      <th>max</th>\n",
       "      <td>1000000.000000</td>\n",
       "    </tr>\n",
       "  </tbody>\n",
       "</table>\n",
       "</div>"
      ],
      "text/plain": [
       "                  Q25\n",
       "count    15391.000000\n",
       "mean     49116.009356\n",
       "std      98090.207788\n",
       "min       1000.000000\n",
       "25%       2000.000000\n",
       "50%      15000.000000\n",
       "75%      60000.000000\n",
       "max    1000000.000000"
      ]
     },
     "execution_count": 36,
     "metadata": {},
     "output_type": "execute_result"
    }
   ],
   "source": [
    "table1.describe()"
   ]
  },
  {
   "cell_type": "markdown",
   "id": "0843e89f",
   "metadata": {},
   "source": [
    "# EXPLORATORY ANALYSIS"
   ]
  },
  {
   "cell_type": "code",
   "execution_count": 37,
   "id": "a57aa41b",
   "metadata": {},
   "outputs": [
    {
     "data": {
      "text/plain": [
       "Q1     Q4                                  \n",
       "18-21  Bachelor’s degree                       577\n",
       "       Doctoral degree                           7\n",
       "       I prefer not to answer                   24\n",
       "       Master’s degree                         160\n",
       "       No formal education past high school     23\n",
       "dtype: int64"
      ]
     },
     "execution_count": 37,
     "metadata": {},
     "output_type": "execute_result"
    }
   ],
   "source": [
    "#creating a new datatset with only the age & degree. \n",
    "tableage=table1.groupby([\"Q1\",\"Q4\"]).size()\n",
    "tableage.head()"
   ]
  },
  {
   "cell_type": "code",
   "execution_count": 38,
   "id": "69343f29",
   "metadata": {},
   "outputs": [
    {
     "data": {
      "text/html": [
       "<div>\n",
       "<style scoped>\n",
       "    .dataframe tbody tr th:only-of-type {\n",
       "        vertical-align: middle;\n",
       "    }\n",
       "\n",
       "    .dataframe tbody tr th {\n",
       "        vertical-align: top;\n",
       "    }\n",
       "\n",
       "    .dataframe thead th {\n",
       "        text-align: right;\n",
       "    }\n",
       "</style>\n",
       "<table border=\"1\" class=\"dataframe\">\n",
       "  <thead>\n",
       "    <tr style=\"text-align: right;\">\n",
       "      <th>Q4</th>\n",
       "      <th>Bachelor’s degree</th>\n",
       "      <th>Doctoral degree</th>\n",
       "      <th>I prefer not to answer</th>\n",
       "      <th>Master’s degree</th>\n",
       "      <th>No formal education past high school</th>\n",
       "      <th>Professional doctorate</th>\n",
       "      <th>Some college/university study without earning a bachelor’s degree</th>\n",
       "    </tr>\n",
       "    <tr>\n",
       "      <th>Q1</th>\n",
       "      <th></th>\n",
       "      <th></th>\n",
       "      <th></th>\n",
       "      <th></th>\n",
       "      <th></th>\n",
       "      <th></th>\n",
       "      <th></th>\n",
       "    </tr>\n",
       "  </thead>\n",
       "  <tbody>\n",
       "    <tr>\n",
       "      <th>18-21</th>\n",
       "      <td>577</td>\n",
       "      <td>7</td>\n",
       "      <td>24</td>\n",
       "      <td>160</td>\n",
       "      <td>23</td>\n",
       "      <td>5</td>\n",
       "      <td>135</td>\n",
       "    </tr>\n",
       "    <tr>\n",
       "      <th>22-24</th>\n",
       "      <td>1092</td>\n",
       "      <td>56</td>\n",
       "      <td>38</td>\n",
       "      <td>773</td>\n",
       "      <td>24</td>\n",
       "      <td>13</td>\n",
       "      <td>96</td>\n",
       "    </tr>\n",
       "    <tr>\n",
       "      <th>25-29</th>\n",
       "      <td>1146</td>\n",
       "      <td>225</td>\n",
       "      <td>68</td>\n",
       "      <td>1623</td>\n",
       "      <td>28</td>\n",
       "      <td>33</td>\n",
       "      <td>112</td>\n",
       "    </tr>\n",
       "    <tr>\n",
       "      <th>30-34</th>\n",
       "      <td>668</td>\n",
       "      <td>413</td>\n",
       "      <td>42</td>\n",
       "      <td>1338</td>\n",
       "      <td>37</td>\n",
       "      <td>44</td>\n",
       "      <td>84</td>\n",
       "    </tr>\n",
       "    <tr>\n",
       "      <th>35-39</th>\n",
       "      <td>445</td>\n",
       "      <td>419</td>\n",
       "      <td>46</td>\n",
       "      <td>933</td>\n",
       "      <td>27</td>\n",
       "      <td>42</td>\n",
       "      <td>80</td>\n",
       "    </tr>\n",
       "  </tbody>\n",
       "</table>\n",
       "</div>"
      ],
      "text/plain": [
       "Q4     Bachelor’s degree  Doctoral degree  I prefer not to answer  \\\n",
       "Q1                                                                  \n",
       "18-21                577                7                      24   \n",
       "22-24               1092               56                      38   \n",
       "25-29               1146              225                      68   \n",
       "30-34                668              413                      42   \n",
       "35-39                445              419                      46   \n",
       "\n",
       "Q4     Master’s degree  No formal education past high school  \\\n",
       "Q1                                                             \n",
       "18-21              160                                    23   \n",
       "22-24              773                                    24   \n",
       "25-29             1623                                    28   \n",
       "30-34             1338                                    37   \n",
       "35-39              933                                    27   \n",
       "\n",
       "Q4     Professional doctorate  \\\n",
       "Q1                              \n",
       "18-21                       5   \n",
       "22-24                      13   \n",
       "25-29                      33   \n",
       "30-34                      44   \n",
       "35-39                      42   \n",
       "\n",
       "Q4     Some college/university study without earning a bachelor’s degree  \n",
       "Q1                                                                        \n",
       "18-21                                                135                  \n",
       "22-24                                                 96                  \n",
       "25-29                                                112                  \n",
       "30-34                                                 84                  \n",
       "35-39                                                 80                  "
      ]
     },
     "execution_count": 38,
     "metadata": {},
     "output_type": "execute_result"
    }
   ],
   "source": [
    "#the frequency of the degrees obtained per age group is computed\n",
    "tableage=tableage.unstack()\n",
    "tableage.head()"
   ]
  },
  {
   "cell_type": "code",
   "execution_count": 39,
   "id": "4ee1befa",
   "metadata": {},
   "outputs": [
    {
     "data": {
      "text/plain": [
       "<matplotlib.legend.Legend at 0x274bd728a30>"
      ]
     },
     "execution_count": 39,
     "metadata": {},
     "output_type": "execute_result"
    },
    {
     "data": {
      "image/png": "[encoded data removed]",
      "text/plain": [
       "<Figure size 640x480 with 1 Axes>"
      ]
     },
     "metadata": {},
     "output_type": "display_data"
    }
   ],
   "source": [
    "#stacked bar plot for the distribution of degrees in each age group is created and displayed\n",
    "tableage.plot.bar(stacked=True)\n",
    "plt.legend(loc='center left', bbox_to_anchor=(1, 0.5))"
   ]
  },
  {
   "cell_type": "code",
   "execution_count": 40,
   "id": "ad37ba6a",
   "metadata": {},
   "outputs": [
    {
     "data": {
      "text/plain": [
       "Text(0.5, 0, 'Professional Experience')"
      ]
     },
     "execution_count": 40,
     "metadata": {},
     "output_type": "execute_result"
    },
    {
     "data": {
      "image/png": "[encoded data removed]",
      "text/plain": [
       "<Figure size 640x480 with 1 Axes>"
      ]
     },
     "metadata": {},
     "output_type": "display_data"
    }
   ],
   "source": [
    "#a pie chart explaining the distribution of the professional experience among the respondents is shown.\n",
    "experience=table[\"Q6\"].value_counts()\n",
    "experience.plot(kind='pie', autopct='%.2f%%')\n",
    "plt.xlabel('Professional Experience')"
   ]
  },
  {
   "cell_type": "code",
   "execution_count": 41,
   "id": "1e17e226",
   "metadata": {},
   "outputs": [
    {
     "data": {
      "text/plain": [
       "Text(0.5, 0, 'Gender')"
      ]
     },
     "execution_count": 41,
     "metadata": {},
     "output_type": "execute_result"
    },
    {
     "data": {
      "image/png": "[encoded data removed]",
      "text/plain": [
       "<Figure size 640x480 with 1 Axes>"
      ]
     },
     "metadata": {},
     "output_type": "display_data"
    }
   ],
   "source": [
    "#a bar chart explaining the distribution of the gender among the respondents is shown.\n",
    "gender=table[\"Q2\"].value_counts()\n",
    "gender.plot(kind='bar')\n",
    "plt.xlabel('Gender')"
   ]
  },
  {
   "cell_type": "markdown",
   "id": "286c1864",
   "metadata": {},
   "source": [
    "# ANALYSIS BASED ON THE AVERAGE SALARY BETWEEN MEN AND WOMEN"
   ]
  },
  {
   "cell_type": "code",
   "execution_count": 42,
   "id": "1ea7b860",
   "metadata": {
    "scrolled": true
   },
   "outputs": [],
   "source": [
    "# a new dataset contating the salary of men is created\n",
    "question2man=table[[\"Q2\",\"Q25\"]]\n",
    "question2man=question2man[question2man[\"Q2\"]==\"Man\"]"
   ]
  },
  {
   "cell_type": "code",
   "execution_count": 43,
   "id": "e7bbcf04",
   "metadata": {
    "scrolled": true
   },
   "outputs": [
    {
     "data": {
      "text/html": [
       "<div>\n",
       "<style scoped>\n",
       "    .dataframe tbody tr th:only-of-type {\n",
       "        vertical-align: middle;\n",
       "    }\n",
       "\n",
       "    .dataframe tbody tr th {\n",
       "        vertical-align: top;\n",
       "    }\n",
       "\n",
       "    .dataframe thead th {\n",
       "        text-align: right;\n",
       "    }\n",
       "</style>\n",
       "<table border=\"1\" class=\"dataframe\">\n",
       "  <thead>\n",
       "    <tr style=\"text-align: right;\">\n",
       "      <th></th>\n",
       "      <th>Q25</th>\n",
       "    </tr>\n",
       "  </thead>\n",
       "  <tbody>\n",
       "    <tr>\n",
       "      <th>count</th>\n",
       "      <td>12642.000000</td>\n",
       "    </tr>\n",
       "    <tr>\n",
       "      <th>mean</th>\n",
       "      <td>51193.600696</td>\n",
       "    </tr>\n",
       "    <tr>\n",
       "      <th>std</th>\n",
       "      <td>99979.274378</td>\n",
       "    </tr>\n",
       "    <tr>\n",
       "      <th>min</th>\n",
       "      <td>1000.000000</td>\n",
       "    </tr>\n",
       "    <tr>\n",
       "      <th>25%</th>\n",
       "      <td>2000.000000</td>\n",
       "    </tr>\n",
       "    <tr>\n",
       "      <th>50%</th>\n",
       "      <td>20000.000000</td>\n",
       "    </tr>\n",
       "    <tr>\n",
       "      <th>75%</th>\n",
       "      <td>60000.000000</td>\n",
       "    </tr>\n",
       "    <tr>\n",
       "      <th>max</th>\n",
       "      <td>1000000.000000</td>\n",
       "    </tr>\n",
       "  </tbody>\n",
       "</table>\n",
       "</div>"
      ],
      "text/plain": [
       "                  Q25\n",
       "count    12642.000000\n",
       "mean     51193.600696\n",
       "std      99979.274378\n",
       "min       1000.000000\n",
       "25%       2000.000000\n",
       "50%      20000.000000\n",
       "75%      60000.000000\n",
       "max    1000000.000000"
      ]
     },
     "execution_count": 43,
     "metadata": {},
     "output_type": "execute_result"
    }
   ],
   "source": [
    "# descriptive statistics of salary of men\n",
    "question2man.describe()"
   ]
  },
  {
   "cell_type": "code",
   "execution_count": 44,
   "id": "4aa4b596",
   "metadata": {},
   "outputs": [],
   "source": [
    "# a new dataset contating the salary of women is created\n",
    "question2woman=table[[\"Q2\",\"Q25\"]]\n",
    "question2woman=question2woman[question2woman[\"Q2\"]==\"Woman\"]"
   ]
  },
  {
   "cell_type": "code",
   "execution_count": 45,
   "id": "ae55e4a7",
   "metadata": {},
   "outputs": [
    {
     "data": {
      "text/html": [
       "<div>\n",
       "<style scoped>\n",
       "    .dataframe tbody tr th:only-of-type {\n",
       "        vertical-align: middle;\n",
       "    }\n",
       "\n",
       "    .dataframe tbody tr th {\n",
       "        vertical-align: top;\n",
       "    }\n",
       "\n",
       "    .dataframe thead th {\n",
       "        text-align: right;\n",
       "    }\n",
       "</style>\n",
       "<table border=\"1\" class=\"dataframe\">\n",
       "  <thead>\n",
       "    <tr style=\"text-align: right;\">\n",
       "      <th></th>\n",
       "      <th>Q25</th>\n",
       "    </tr>\n",
       "  </thead>\n",
       "  <tbody>\n",
       "    <tr>\n",
       "      <th>count</th>\n",
       "      <td>2482.000000</td>\n",
       "    </tr>\n",
       "    <tr>\n",
       "      <th>mean</th>\n",
       "      <td>34816.881547</td>\n",
       "    </tr>\n",
       "    <tr>\n",
       "      <th>std</th>\n",
       "      <td>72017.347888</td>\n",
       "    </tr>\n",
       "    <tr>\n",
       "      <th>min</th>\n",
       "      <td>1000.000000</td>\n",
       "    </tr>\n",
       "    <tr>\n",
       "      <th>25%</th>\n",
       "      <td>1000.000000</td>\n",
       "    </tr>\n",
       "    <tr>\n",
       "      <th>50%</th>\n",
       "      <td>7500.000000</td>\n",
       "    </tr>\n",
       "    <tr>\n",
       "      <th>75%</th>\n",
       "      <td>50000.000000</td>\n",
       "    </tr>\n",
       "    <tr>\n",
       "      <th>max</th>\n",
       "      <td>1000000.000000</td>\n",
       "    </tr>\n",
       "  </tbody>\n",
       "</table>\n",
       "</div>"
      ],
      "text/plain": [
       "                  Q25\n",
       "count     2482.000000\n",
       "mean     34816.881547\n",
       "std      72017.347888\n",
       "min       1000.000000\n",
       "25%       1000.000000\n",
       "50%       7500.000000\n",
       "75%      50000.000000\n",
       "max    1000000.000000"
      ]
     },
     "execution_count": 45,
     "metadata": {},
     "output_type": "execute_result"
    }
   ],
   "source": [
    "# descriptive statistics of salary of women\n",
    "question2woman.describe()"
   ]
  },
  {
   "cell_type": "code",
   "execution_count": 46,
   "id": "9e8ce89d",
   "metadata": {},
   "outputs": [
    {
     "data": {
      "text/html": [
       "<div>\n",
       "<style scoped>\n",
       "    .dataframe tbody tr th:only-of-type {\n",
       "        vertical-align: middle;\n",
       "    }\n",
       "\n",
       "    .dataframe tbody tr th {\n",
       "        vertical-align: top;\n",
       "    }\n",
       "\n",
       "    .dataframe thead th {\n",
       "        text-align: right;\n",
       "    }\n",
       "</style>\n",
       "<table border=\"1\" class=\"dataframe\">\n",
       "  <thead>\n",
       "    <tr style=\"text-align: right;\">\n",
       "      <th></th>\n",
       "      <th>Q25</th>\n",
       "    </tr>\n",
       "  </thead>\n",
       "  <tbody>\n",
       "    <tr>\n",
       "      <th>15</th>\n",
       "      <td>2000</td>\n",
       "    </tr>\n",
       "    <tr>\n",
       "      <th>17</th>\n",
       "      <td>30000</td>\n",
       "    </tr>\n",
       "    <tr>\n",
       "      <th>19</th>\n",
       "      <td>1000</td>\n",
       "    </tr>\n",
       "    <tr>\n",
       "      <th>22</th>\n",
       "      <td>10000</td>\n",
       "    </tr>\n",
       "    <tr>\n",
       "      <th>26</th>\n",
       "      <td>5000</td>\n",
       "    </tr>\n",
       "  </tbody>\n",
       "</table>\n",
       "</div>"
      ],
      "text/plain": [
       "      Q25\n",
       "15   2000\n",
       "17  30000\n",
       "19   1000\n",
       "22  10000\n",
       "26   5000"
      ]
     },
     "execution_count": 46,
     "metadata": {},
     "output_type": "execute_result"
    }
   ],
   "source": [
    "woman=question2woman[[\"Q25\"]]\n",
    "woman.head()"
   ]
  },
  {
   "cell_type": "code",
   "execution_count": 47,
   "id": "f7a5cea0",
   "metadata": {},
   "outputs": [
    {
     "data": {
      "text/html": [
       "<div>\n",
       "<style scoped>\n",
       "    .dataframe tbody tr th:only-of-type {\n",
       "        vertical-align: middle;\n",
       "    }\n",
       "\n",
       "    .dataframe tbody tr th {\n",
       "        vertical-align: top;\n",
       "    }\n",
       "\n",
       "    .dataframe thead th {\n",
       "        text-align: right;\n",
       "    }\n",
       "</style>\n",
       "<table border=\"1\" class=\"dataframe\">\n",
       "  <thead>\n",
       "    <tr style=\"text-align: right;\">\n",
       "      <th></th>\n",
       "      <th>Q25</th>\n",
       "    </tr>\n",
       "  </thead>\n",
       "  <tbody>\n",
       "    <tr>\n",
       "      <th>0</th>\n",
       "      <td>30000</td>\n",
       "    </tr>\n",
       "    <tr>\n",
       "      <th>1</th>\n",
       "      <td>70000</td>\n",
       "    </tr>\n",
       "    <tr>\n",
       "      <th>2</th>\n",
       "      <td>1000</td>\n",
       "    </tr>\n",
       "    <tr>\n",
       "      <th>3</th>\n",
       "      <td>40000</td>\n",
       "    </tr>\n",
       "    <tr>\n",
       "      <th>4</th>\n",
       "      <td>40000</td>\n",
       "    </tr>\n",
       "  </tbody>\n",
       "</table>\n",
       "</div>"
      ],
      "text/plain": [
       "     Q25\n",
       "0  30000\n",
       "1  70000\n",
       "2   1000\n",
       "3  40000\n",
       "4  40000"
      ]
     },
     "execution_count": 47,
     "metadata": {},
     "output_type": "execute_result"
    }
   ],
   "source": [
    "man=question2man[[\"Q25\"]]\n",
    "man.head()"
   ]
  },
  {
   "cell_type": "code",
   "execution_count": 48,
   "id": "2f776898",
   "metadata": {
    "scrolled": false
   },
   "outputs": [
    {
     "name": "stdout",
     "output_type": "stream",
     "text": [
      "47.0171552949757 7.309414887535396e-12\n",
      "The variances are not homogeneous (reject H0).\n"
     ]
    }
   ],
   "source": [
    "#LEVENE TEST for the datasets of the salary of men and women is performed. The homogenity of varience is checked here.\n",
    "stats,p=sp.levene(woman.Q25,man.Q25)\n",
    "print(stats,p)\n",
    "\n",
    "if p > 0.05:\n",
    "    print(\"The variances are homogeneous (fail to reject H0).\")\n",
    "else:\n",
    "    print(\"The variances are not homogeneous (reject H0).\")"
   ]
  },
  {
   "cell_type": "code",
   "execution_count": 49,
   "id": "1eca29e1",
   "metadata": {},
   "outputs": [
    {
     "name": "stdout",
     "output_type": "stream",
     "text": [
      "0.4714226722717285 0.0\n",
      "The sample does not look normally distributed (reject H0).\n"
     ]
    },
    {
     "name": "stderr",
     "output_type": "stream",
     "text": [
      "C:\\ProgramData\\Anaconda3\\lib\\site-packages\\scipy\\stats\\_morestats.py:1800: UserWarning: p-value may not be accurate for N > 5000.\n",
      "  warnings.warn(\"p-value may not be accurate for N > 5000.\")\n"
     ]
    }
   ],
   "source": [
    "#SHAPIRO TEST for the men salary dataset is performed. Here the normal distribution of the sample is checked.\n",
    "stat, p = sp.shapiro(man.Q25)\n",
    "print(stat,p)\n",
    "\n",
    "if p > 0.05:\n",
    "    print(\"The sample looks normally distributed (fail to reject H0).\")\n",
    "else:\n",
    "    print(\"The sample does not look normally distributed (reject H0).\")\n"
   ]
  },
  {
   "cell_type": "code",
   "execution_count": 50,
   "id": "f6923faa",
   "metadata": {
    "scrolled": true
   },
   "outputs": [
    {
     "name": "stdout",
     "output_type": "stream",
     "text": [
      "0.46219897270202637 0.0\n",
      "The sample does not look normally distributed (reject H0).\n"
     ]
    }
   ],
   "source": [
    "#SHAPIRO TEST for the women salary dataset is performed. Here the normal distribution of the sample is checked.\n",
    "stat, p = sp.shapiro(woman.Q25)\n",
    "print(stat,p)\n",
    "\n",
    "\n",
    "if p > 0.05:\n",
    "    print(\"The sample looks normally distributed (fail to reject H0).\")\n",
    "else:\n",
    "    print(\"The sample does not look normally distributed (reject H0).\")\n"
   ]
  },
  {
   "cell_type": "code",
   "execution_count": 51,
   "id": "fc177f6d",
   "metadata": {
    "scrolled": false
   },
   "outputs": [
    {
     "name": "stdout",
     "output_type": "stream",
     "text": [
      "9.649519756229287 7.952919386918026e-22\n",
      "Reject the null hypothesis - there is a significant difference\n"
     ]
    }
   ],
   "source": [
    "# WELCH TWO T TEST\n",
    "t_stat, p_val = sp.ttest_ind(man.Q25, woman.Q25,equal_var=False)\n",
    "print(t_stat, p_val)\n",
    "\n",
    "\n",
    "if p_val < 0.05:\n",
    "    print(\"Reject the null hypothesis - there is a significant difference\")\n",
    "else:\n",
    "    print(\"Fail to reject the null hypothesis - there is no significant difference between the salaries of men and women\")"
   ]
  },
  {
   "cell_type": "code",
   "execution_count": 52,
   "id": "a8a8310f",
   "metadata": {
    "scrolled": true
   },
   "outputs": [
    {
     "name": "stdout",
     "output_type": "stream",
     "text": [
      "46088.993275316454 57036.29351265822\n"
     ]
    }
   ],
   "source": [
    "#BOOTSTRAPPING MAN SALARY DATA\n",
    "\n",
    "n_samples = 1000 # no:of replication\n",
    "manboot = np.empty((n_samples,))\n",
    "\n",
    "for i in range(n_samples):\n",
    "    boot = man[\"Q25\"].sample(frac=.10, replace=True)\n",
    "    manboot[i] = boot.mean()\n",
    "lower, upper = np.percentile(manboot, [2.5, 97.5])\n",
    "\n",
    "print(lower, upper)\n"
   ]
  },
  {
   "cell_type": "code",
   "execution_count": 53,
   "id": "fc281c02",
   "metadata": {},
   "outputs": [
    {
     "name": "stdout",
     "output_type": "stream",
     "text": [
      "27249.14314516129 45503.780241935485\n"
     ]
    }
   ],
   "source": [
    "#BOOTSTRAPPING WOMAN SALARY DATA\n",
    "\n",
    "n_samples = 1000 #no:of replication\n",
    "womanboot = np.empty((n_samples,))\n",
    "for i in range(n_samples):\n",
    "    boot = woman[\"Q25\"].sample(frac=.10, replace=True)\n",
    "    womanboot[i] = boot.mean()\n",
    "lower1, upper1 = np.percentile(womanboot, [2.5, 97.5])\n",
    "\n",
    "print(lower1, upper1)\n"
   ]
  },
  {
   "cell_type": "code",
   "execution_count": 54,
   "id": "79cdb267",
   "metadata": {},
   "outputs": [],
   "source": [
    "#here the list is being converted into a dataset.\n",
    "manboot=pd.DataFrame(manboot,columns=[\"Salary\"])\n",
    "womanboot=pd.DataFrame(womanboot, columns=[\"Salary\"])"
   ]
  },
  {
   "cell_type": "code",
   "execution_count": 55,
   "id": "1d17d23f",
   "metadata": {},
   "outputs": [
    {
     "name": "stdout",
     "output_type": "stream",
     "text": [
      "0.9800422787666321 1.782663877625268e-10\n",
      "The sample does not look normally distributed (reject H0).\n"
     ]
    }
   ],
   "source": [
    "#SHAPIRO TEST\n",
    "stat, p = sp.shapiro(womanboot.Salary)\n",
    "print(stat,p)\n",
    "\n",
    "\n",
    "if p > 0.05:\n",
    "    print(\"The sample looks normally distributed (fail to reject H0).\")\n",
    "else:\n",
    "    print(\"The sample does not look normally distributed (reject H0).\")\n"
   ]
  },
  {
   "cell_type": "code",
   "execution_count": 56,
   "id": "a73956d3",
   "metadata": {},
   "outputs": [
    {
     "name": "stdout",
     "output_type": "stream",
     "text": [
      "0.9967828392982483 0.039870478212833405\n",
      "The sample does not look normally distributed (reject H0).\n"
     ]
    }
   ],
   "source": [
    "#SHAPIRO TEST\n",
    "stat, p = sp.shapiro(manboot.Salary)\n",
    "print(stat,p)\n",
    "\n",
    "if p > 0.05:\n",
    "    print(\"The sample looks normally distributed (fail to reject H0).\")\n",
    "else:\n",
    "    print(\"The sample does not look normally distributed (reject H0).\")"
   ]
  },
  {
   "cell_type": "code",
   "execution_count": 57,
   "id": "165e773b",
   "metadata": {},
   "outputs": [
    {
     "name": "stdout",
     "output_type": "stream",
     "text": [
      "173.4720262395976 4.73465111742972e-38\n",
      "The variances are not homogeneous (reject H0).\n"
     ]
    }
   ],
   "source": [
    "#LEVENE TEST\n",
    "stats,p=sp.levene(manboot.Salary,womanboot.Salary)\n",
    "print(stats,p)\n",
    "\n",
    "if p > 0.05:\n",
    "    print(\"The variances are homogeneous (fail to reject H0).\")\n",
    "else:\n",
    "    print(\"The variances are not homogeneous (reject H0).\")"
   ]
  },
  {
   "cell_type": "code",
   "execution_count": 58,
   "id": "68fd59f4",
   "metadata": {},
   "outputs": [
    {
     "name": "stdout",
     "output_type": "stream",
     "text": [
      "95.02563372724897 0.0\n",
      "Reject the null hypothesis - there is a significant difference between the two samples\n"
     ]
    }
   ],
   "source": [
    "#WELCH TWO T-TEST\n",
    "t_stat, p_val = sp.ttest_ind(manboot.Salary, womanboot.Salary,equal_var=False)\n",
    "print(t_stat, p_val) \n",
    "\n",
    "if p_val < 0.05:\n",
    "    print(\"Reject the null hypothesis - there is a significant difference between the two samples\")\n",
    "else:\n",
    "    print(\"Fail to reject the null hypothesis - there is no significant difference between the two samples\")"
   ]
  },
  {
   "cell_type": "code",
   "execution_count": 59,
   "id": "2c93558d",
   "metadata": {},
   "outputs": [
    {
     "data": {
      "text/plain": [
       "Text(0, 0.5, 'Frequency')"
      ]
     },
     "execution_count": 59,
     "metadata": {},
     "output_type": "execute_result"
    },
    {
     "data": {
      "image/png": "[encoded data removed]",
      "text/plain": [
       "<Figure size 640x480 with 1 Axes>"
      ]
     },
     "metadata": {},
     "output_type": "display_data"
    }
   ],
   "source": [
    "#histogram plot of the bootstrapped man salary\n",
    "plt.hist(manboot,bins=np.arange(45000,60000,1000))\n",
    "plt.xlabel(\"Salary\")\n",
    "plt.ylabel(\"Frequency\")"
   ]
  },
  {
   "cell_type": "code",
   "execution_count": 60,
   "id": "230c0bb4",
   "metadata": {},
   "outputs": [
    {
     "data": {
      "text/plain": [
       "Text(0, 0.5, 'Frequency')"
      ]
     },
     "execution_count": 60,
     "metadata": {},
     "output_type": "execute_result"
    },
    {
     "data": {
      "image/png": "[encoded data removed]",
      "text/plain": [
       "<Figure size 640x480 with 1 Axes>"
      ]
     },
     "metadata": {},
     "output_type": "display_data"
    }
   ],
   "source": [
    "#histogram plot of the bootstrapped woman salary\n",
    "plt.hist(womanboot,bins=np.arange(25000,47000,1000))\n",
    "plt.xlabel(\"Salary\")\n",
    "plt.ylabel(\"Frequency\")"
   ]
  },
  {
   "cell_type": "code",
   "execution_count": 61,
   "id": "66f66b2a",
   "metadata": {
    "scrolled": true
   },
   "outputs": [
    {
     "data": {
      "image/png": "[encoded data removed]",
      "text/plain": [
       "<Figure size 640x480 with 1 Axes>"
      ]
     },
     "metadata": {},
     "output_type": "display_data"
    }
   ],
   "source": [
    "#histogram plot of the bootstrapped man salary\n",
    "plt.hist(manboot,bins=np.arange(20000,60000,500),label=\"Man Salary\")\n",
    "plt.hist(womanboot,bins=np.arange(20000,45000,500),label=\"Woman Salary\")\n",
    "plt.legend()\n",
    "plt.show()"
   ]
  },
  {
   "cell_type": "code",
   "execution_count": 62,
   "id": "f2bdcc2b",
   "metadata": {},
   "outputs": [
    {
     "data": {
      "text/plain": [
       "<AxesSubplot:>"
      ]
     },
     "execution_count": 62,
     "metadata": {},
     "output_type": "execute_result"
    },
    {
     "data": {
      "image/png": "[encoded data removed]",
      "text/plain": [
       "<Figure size 640x480 with 1 Axes>"
      ]
     },
     "metadata": {},
     "output_type": "display_data"
    }
   ],
   "source": [
    "#difference of means plot\n",
    "diff_gender=np.abs(manboot.Salary-womanboot.Salary)\n",
    "diff_gender.hist()"
   ]
  },
  {
   "cell_type": "markdown",
   "id": "d24a0fbe",
   "metadata": {},
   "source": [
    "# ANALYSIS BASED ON THE AVERAGE SALARY AND HIGHEST LEVEL OF EDUCATION"
   ]
  },
  {
   "cell_type": "code",
   "execution_count": 63,
   "id": "da629787",
   "metadata": {},
   "outputs": [
    {
     "data": {
      "text/html": [
       "<div>\n",
       "<style scoped>\n",
       "    .dataframe tbody tr th:only-of-type {\n",
       "        vertical-align: middle;\n",
       "    }\n",
       "\n",
       "    .dataframe tbody tr th {\n",
       "        vertical-align: top;\n",
       "    }\n",
       "\n",
       "    .dataframe thead th {\n",
       "        text-align: right;\n",
       "    }\n",
       "</style>\n",
       "<table border=\"1\" class=\"dataframe\">\n",
       "  <thead>\n",
       "    <tr style=\"text-align: right;\">\n",
       "      <th></th>\n",
       "      <th>Q25</th>\n",
       "    </tr>\n",
       "  </thead>\n",
       "  <tbody>\n",
       "    <tr>\n",
       "      <th>count</th>\n",
       "      <td>4777.000000</td>\n",
       "    </tr>\n",
       "    <tr>\n",
       "      <th>mean</th>\n",
       "      <td>35578.291815</td>\n",
       "    </tr>\n",
       "    <tr>\n",
       "      <th>std</th>\n",
       "      <td>89382.060777</td>\n",
       "    </tr>\n",
       "    <tr>\n",
       "      <th>min</th>\n",
       "      <td>1000.000000</td>\n",
       "    </tr>\n",
       "    <tr>\n",
       "      <th>25%</th>\n",
       "      <td>1000.000000</td>\n",
       "    </tr>\n",
       "    <tr>\n",
       "      <th>50%</th>\n",
       "      <td>7500.000000</td>\n",
       "    </tr>\n",
       "    <tr>\n",
       "      <th>75%</th>\n",
       "      <td>40000.000000</td>\n",
       "    </tr>\n",
       "    <tr>\n",
       "      <th>max</th>\n",
       "      <td>1000000.000000</td>\n",
       "    </tr>\n",
       "  </tbody>\n",
       "</table>\n",
       "</div>"
      ],
      "text/plain": [
       "                  Q25\n",
       "count     4777.000000\n",
       "mean     35578.291815\n",
       "std      89382.060777\n",
       "min       1000.000000\n",
       "25%       1000.000000\n",
       "50%       7500.000000\n",
       "75%      40000.000000\n",
       "max    1000000.000000"
      ]
     },
     "execution_count": 63,
     "metadata": {},
     "output_type": "execute_result"
    }
   ],
   "source": [
    "#creating a new dataset based on the salary of bachelor degree holders\n",
    "question3bd=table[[\"Q4\",\"Q25\"]]\n",
    "question3bd=question3bd[question3bd[\"Q4\"]==\"Bachelor’s degree\"]\n",
    "bd=question3bd.value_counts().sort_index()\n",
    "question3bd.describe()"
   ]
  },
  {
   "cell_type": "code",
   "execution_count": 64,
   "id": "a7257f1b",
   "metadata": {},
   "outputs": [
    {
     "data": {
      "text/html": [
       "<div>\n",
       "<style scoped>\n",
       "    .dataframe tbody tr th:only-of-type {\n",
       "        vertical-align: middle;\n",
       "    }\n",
       "\n",
       "    .dataframe tbody tr th {\n",
       "        vertical-align: top;\n",
       "    }\n",
       "\n",
       "    .dataframe thead th {\n",
       "        text-align: right;\n",
       "    }\n",
       "</style>\n",
       "<table border=\"1\" class=\"dataframe\">\n",
       "  <thead>\n",
       "    <tr style=\"text-align: right;\">\n",
       "      <th></th>\n",
       "      <th>Q25</th>\n",
       "    </tr>\n",
       "  </thead>\n",
       "  <tbody>\n",
       "    <tr>\n",
       "      <th>count</th>\n",
       "      <td>6799.000000</td>\n",
       "    </tr>\n",
       "    <tr>\n",
       "      <th>mean</th>\n",
       "      <td>52706.868657</td>\n",
       "    </tr>\n",
       "    <tr>\n",
       "      <th>std</th>\n",
       "      <td>90928.786678</td>\n",
       "    </tr>\n",
       "    <tr>\n",
       "      <th>min</th>\n",
       "      <td>1000.000000</td>\n",
       "    </tr>\n",
       "    <tr>\n",
       "      <th>25%</th>\n",
       "      <td>3000.000000</td>\n",
       "    </tr>\n",
       "    <tr>\n",
       "      <th>50%</th>\n",
       "      <td>25000.000000</td>\n",
       "    </tr>\n",
       "    <tr>\n",
       "      <th>75%</th>\n",
       "      <td>70000.000000</td>\n",
       "    </tr>\n",
       "    <tr>\n",
       "      <th>max</th>\n",
       "      <td>1000000.000000</td>\n",
       "    </tr>\n",
       "  </tbody>\n",
       "</table>\n",
       "</div>"
      ],
      "text/plain": [
       "                  Q25\n",
       "count     6799.000000\n",
       "mean     52706.868657\n",
       "std      90928.786678\n",
       "min       1000.000000\n",
       "25%       3000.000000\n",
       "50%      25000.000000\n",
       "75%      70000.000000\n",
       "max    1000000.000000"
      ]
     },
     "execution_count": 64,
     "metadata": {},
     "output_type": "execute_result"
    }
   ],
   "source": [
    "#creating a new dataset based on the salary of master degree holders\n",
    "question3md=table[[\"Q4\",\"Q25\"]]\n",
    "question3md=question3md[question3md[\"Q4\"]==\"Master’s degree\"]\n",
    "md=question3md.value_counts().sort_index()\n",
    "question3md.describe()"
   ]
  },
  {
   "cell_type": "code",
   "execution_count": 65,
   "id": "7cb128b3",
   "metadata": {},
   "outputs": [
    {
     "data": {
      "text/html": [
       "<div>\n",
       "<style scoped>\n",
       "    .dataframe tbody tr th:only-of-type {\n",
       "        vertical-align: middle;\n",
       "    }\n",
       "\n",
       "    .dataframe tbody tr th {\n",
       "        vertical-align: top;\n",
       "    }\n",
       "\n",
       "    .dataframe thead th {\n",
       "        text-align: right;\n",
       "    }\n",
       "</style>\n",
       "<table border=\"1\" class=\"dataframe\">\n",
       "  <thead>\n",
       "    <tr style=\"text-align: right;\">\n",
       "      <th></th>\n",
       "      <th>Q25</th>\n",
       "    </tr>\n",
       "  </thead>\n",
       "  <tbody>\n",
       "    <tr>\n",
       "      <th>count</th>\n",
       "      <td>2217.000000</td>\n",
       "    </tr>\n",
       "    <tr>\n",
       "      <th>mean</th>\n",
       "      <td>70641.181777</td>\n",
       "    </tr>\n",
       "    <tr>\n",
       "      <th>std</th>\n",
       "      <td>117160.947589</td>\n",
       "    </tr>\n",
       "    <tr>\n",
       "      <th>min</th>\n",
       "      <td>1000.000000</td>\n",
       "    </tr>\n",
       "    <tr>\n",
       "      <th>25%</th>\n",
       "      <td>4000.000000</td>\n",
       "    </tr>\n",
       "    <tr>\n",
       "      <th>50%</th>\n",
       "      <td>40000.000000</td>\n",
       "    </tr>\n",
       "    <tr>\n",
       "      <th>75%</th>\n",
       "      <td>90000.000000</td>\n",
       "    </tr>\n",
       "    <tr>\n",
       "      <th>max</th>\n",
       "      <td>1000000.000000</td>\n",
       "    </tr>\n",
       "  </tbody>\n",
       "</table>\n",
       "</div>"
      ],
      "text/plain": [
       "                  Q25\n",
       "count     2217.000000\n",
       "mean     70641.181777\n",
       "std     117160.947589\n",
       "min       1000.000000\n",
       "25%       4000.000000\n",
       "50%      40000.000000\n",
       "75%      90000.000000\n",
       "max    1000000.000000"
      ]
     },
     "execution_count": 65,
     "metadata": {},
     "output_type": "execute_result"
    }
   ],
   "source": [
    "#creating a new dataset based on the salary of doctoral degree holders\n",
    "question3dd=table[[\"Q4\",\"Q25\"]]\n",
    "question3dd=question3dd[question3dd[\"Q4\"]==\"Doctoral degree\"]\n",
    "dd=question3dd.value_counts().sort_index()\n",
    "question3dd.describe()"
   ]
  },
  {
   "cell_type": "code",
   "execution_count": 66,
   "id": "77b24b8c",
   "metadata": {},
   "outputs": [],
   "source": [
    "md=question3md[[\"Q25\"]]\n",
    "bd=question3bd[[\"Q25\"]]\n",
    "dd=question3dd[[\"Q25\"]]"
   ]
  },
  {
   "cell_type": "code",
   "execution_count": 67,
   "id": "4895321b",
   "metadata": {},
   "outputs": [
    {
     "name": "stdout",
     "output_type": "stream",
     "text": [
      "79.54751302920215 4.47423511714484e-35\n",
      "The variances are not homogeneous (reject H0).\n"
     ]
    }
   ],
   "source": [
    "#LEVENE TEST for the datasets before bootstrapping\n",
    "stats,p=sp.levene(bd.Q25,md.Q25,dd.Q25)\n",
    "print(stats,p)\n",
    "\n",
    "if p > 0.05:\n",
    "    print(\"The variances are homogeneous (fail to reject H0).\")\n",
    "else:\n",
    "    print(\"The variances are not homogeneous (reject H0).\")"
   ]
  },
  {
   "cell_type": "code",
   "execution_count": 68,
   "id": "e81f4224",
   "metadata": {},
   "outputs": [
    {
     "name": "stdout",
     "output_type": "stream",
     "text": [
      "0.36212533712387085 0.0\n",
      "The sample does not look normally distributed (reject H0).\n"
     ]
    }
   ],
   "source": [
    "#SHAPIRO TEST for Bachelors Dataset\n",
    "stat, p = sp.shapiro(bd.Q25)\n",
    "print(stat,p)\n",
    "\n",
    "if p > 0.05:\n",
    "    print(\"The sample looks normally distributed (fail to reject H0).\")\n",
    "else:\n",
    "    print(\"The sample does not look normally distributed (reject H0).\")\n"
   ]
  },
  {
   "cell_type": "code",
   "execution_count": 69,
   "id": "929725e9",
   "metadata": {},
   "outputs": [
    {
     "name": "stdout",
     "output_type": "stream",
     "text": [
      "0.5266775488853455 0.0\n",
      "The sample does not look normally distributed (reject H0).\n"
     ]
    },
    {
     "name": "stderr",
     "output_type": "stream",
     "text": [
      "C:\\ProgramData\\Anaconda3\\lib\\site-packages\\scipy\\stats\\_morestats.py:1800: UserWarning: p-value may not be accurate for N > 5000.\n",
      "  warnings.warn(\"p-value may not be accurate for N > 5000.\")\n"
     ]
    }
   ],
   "source": [
    "#SHAPIRO TEST for Masters Dataset\n",
    "stat, p = sp.shapiro(md.Q25)\n",
    "print(stat,p)\n",
    "\n",
    "if p > 0.05:\n",
    "    print(\"The sample looks normally distributed (fail to reject H0).\")\n",
    "else:\n",
    "    print(\"The sample does not look normally distributed (reject H0).\")"
   ]
  },
  {
   "cell_type": "code",
   "execution_count": 70,
   "id": "7bd4f2ae",
   "metadata": {},
   "outputs": [
    {
     "name": "stdout",
     "output_type": "stream",
     "text": [
      "0.5536705851554871 0.0\n",
      "The sample does not look normally distributed (reject H0).\n"
     ]
    }
   ],
   "source": [
    "#SHAPIRO TEST for Doctoral Dataset\n",
    "stat, p = sp.shapiro(dd.Q25)\n",
    "print(stat,p)\n",
    "\n",
    "if p > 0.05:\n",
    "    print(\"The sample looks normally distributed (fail to reject H0).\")\n",
    "else:\n",
    "    print(\"The sample does not look normally distributed (reject H0).\")"
   ]
  },
  {
   "cell_type": "code",
   "execution_count": 71,
   "id": "ffa8a931",
   "metadata": {},
   "outputs": [],
   "source": [
    "#merging all three datasets to perform Welch Anova\n",
    "mergedata=pd.concat([question3bd,question3md,question3dd])"
   ]
  },
  {
   "cell_type": "code",
   "execution_count": 72,
   "id": "84b22e54",
   "metadata": {},
   "outputs": [
    {
     "data": {
      "text/html": [
       "<div>\n",
       "<style scoped>\n",
       "    .dataframe tbody tr th:only-of-type {\n",
       "        vertical-align: middle;\n",
       "    }\n",
       "\n",
       "    .dataframe tbody tr th {\n",
       "        vertical-align: top;\n",
       "    }\n",
       "\n",
       "    .dataframe thead th {\n",
       "        text-align: right;\n",
       "    }\n",
       "</style>\n",
       "<table border=\"1\" class=\"dataframe\">\n",
       "  <thead>\n",
       "    <tr style=\"text-align: right;\">\n",
       "      <th></th>\n",
       "      <th>Q4</th>\n",
       "      <th>Q25</th>\n",
       "    </tr>\n",
       "  </thead>\n",
       "  <tbody>\n",
       "    <tr>\n",
       "      <th>0</th>\n",
       "      <td>Bachelor’s degree</td>\n",
       "      <td>30000</td>\n",
       "    </tr>\n",
       "    <tr>\n",
       "      <th>5</th>\n",
       "      <td>Bachelor’s degree</td>\n",
       "      <td>20000</td>\n",
       "    </tr>\n",
       "    <tr>\n",
       "      <th>9</th>\n",
       "      <td>Bachelor’s degree</td>\n",
       "      <td>1000</td>\n",
       "    </tr>\n",
       "    <tr>\n",
       "      <th>11</th>\n",
       "      <td>Bachelor’s degree</td>\n",
       "      <td>3000</td>\n",
       "    </tr>\n",
       "    <tr>\n",
       "      <th>12</th>\n",
       "      <td>Bachelor’s degree</td>\n",
       "      <td>1000</td>\n",
       "    </tr>\n",
       "  </tbody>\n",
       "</table>\n",
       "</div>"
      ],
      "text/plain": [
       "                   Q4    Q25\n",
       "0   Bachelor’s degree  30000\n",
       "5   Bachelor’s degree  20000\n",
       "9   Bachelor’s degree   1000\n",
       "11  Bachelor’s degree   3000\n",
       "12  Bachelor’s degree   1000"
      ]
     },
     "execution_count": 72,
     "metadata": {},
     "output_type": "execute_result"
    }
   ],
   "source": [
    "mergedata.head()"
   ]
  },
  {
   "cell_type": "code",
   "execution_count": 73,
   "id": "574af35a",
   "metadata": {},
   "outputs": [
    {
     "name": "stdout",
     "output_type": "stream",
     "text": [
      "  Source  ddof1        ddof2          F         p-unc       np2\n",
      "0     Q4      2  5570.351587  96.621721  5.612779e-42  0.015669\n"
     ]
    }
   ],
   "source": [
    "#Welch Anova\n",
    "aov = pg.welch_anova(data=mergedata, dv='Q25', between='Q4')\n",
    "print(aov)"
   ]
  },
  {
   "cell_type": "code",
   "execution_count": 74,
   "id": "6782ace4",
   "metadata": {},
   "outputs": [
    {
     "name": "stdout",
     "output_type": "stream",
     "text": [
      "28321.02510460251 44238.441422594144\n"
     ]
    }
   ],
   "source": [
    "#BOOTSTRAPPING Bachelor Degree SALARY DATA\n",
    "\n",
    "n_samples = 1000\n",
    "\n",
    "bdboot = np.empty((n_samples,))\n",
    "\n",
    "for i in range(n_samples):\n",
    "    boot = bd[\"Q25\"].sample(frac=.10, replace=True)\n",
    "    bdboot[i] = boot.mean()\n",
    "\n",
    "lower, upper = np.percentile(bdboot, [2.5, 97.5])\n",
    "\n",
    "print(lower, upper)\n"
   ]
  },
  {
   "cell_type": "code",
   "execution_count": 75,
   "id": "3fd35483",
   "metadata": {},
   "outputs": [
    {
     "name": "stdout",
     "output_type": "stream",
     "text": [
      "46174.76102941177 59721.268382352944\n"
     ]
    }
   ],
   "source": [
    "#BOOTSTRAPPING Master Degree SALARY DATA\n",
    "\n",
    "n_samples = 1000\n",
    "\n",
    "\n",
    "mdboot = np.empty((n_samples,))\n",
    "\n",
    "\n",
    "for i in range(n_samples):\n",
    "    boot = md[\"Q25\"].sample(frac=.10, replace=True)\n",
    "    mdboot[i] = boot.mean()\n",
    "\n",
    "\n",
    "lower, upper = np.percentile(mdboot, [2.5, 97.5])\n",
    "\n",
    "print(lower, upper)"
   ]
  },
  {
   "cell_type": "code",
   "execution_count": 76,
   "id": "d50109e8",
   "metadata": {},
   "outputs": [
    {
     "name": "stdout",
     "output_type": "stream",
     "text": [
      "56880.3490990991 86262.72522522522\n"
     ]
    }
   ],
   "source": [
    "#BOOTSTRAPPING Doctoral Degree SALARY DATA\n",
    "\n",
    "n_samples = 1000\n",
    "\n",
    "ddboot = np.empty((n_samples,))\n",
    "\n",
    "for i in range(n_samples):\n",
    "    boot = dd[\"Q25\"].sample(frac=.10, replace=True)\n",
    "    ddboot[i] = boot.mean()\n",
    "\n",
    "lower, upper = np.percentile(ddboot, [2.5, 97.5])\n",
    "\n",
    "print(lower, upper)"
   ]
  },
  {
   "cell_type": "code",
   "execution_count": 77,
   "id": "6fd948f5",
   "metadata": {},
   "outputs": [
    {
     "data": {
      "image/png": "[encoded data removed]",
      "text/plain": [
       "<Figure size 640x480 with 1 Axes>"
      ]
     },
     "metadata": {},
     "output_type": "display_data"
    },
    {
     "data": {
      "image/png": "[encoded data removed]",
      "text/plain": [
       "<Figure size 640x480 with 1 Axes>"
      ]
     },
     "metadata": {},
     "output_type": "display_data"
    },
    {
     "data": {
      "image/png": "[encoded data removed]",
      "text/plain": [
       "<Figure size 640x480 with 1 Axes>"
      ]
     },
     "metadata": {},
     "output_type": "display_data"
    }
   ],
   "source": [
    "#plotting the actual datasets of Bachelor, Master & Doctoral\n",
    "bd.hist()\n",
    "md.hist()\n",
    "dd.hist()\n",
    "plt.show()"
   ]
  },
  {
   "cell_type": "code",
   "execution_count": 78,
   "id": "016e3694",
   "metadata": {},
   "outputs": [
    {
     "data": {
      "image/png": "[encoded data removed]",
      "text/plain": [
       "<Figure size 640x480 with 1 Axes>"
      ]
     },
     "metadata": {},
     "output_type": "display_data"
    },
    {
     "data": {
      "image/png": "[encoded data removed]",
      "text/plain": [
       "<Figure size 640x480 with 1 Axes>"
      ]
     },
     "metadata": {},
     "output_type": "display_data"
    },
    {
     "data": {
      "image/png": "[encoded data removed]",
      "text/plain": [
       "<Figure size 640x480 with 1 Axes>"
      ]
     },
     "metadata": {},
     "output_type": "display_data"
    }
   ],
   "source": [
    "#Plotting the Bootstrapped Data of Salaries of Bachelors, Masters & Doctoral Degrees respectively\n",
    "bdboot=pd.DataFrame(bdboot,columns=[\"Salary\"])\n",
    "mdboot=pd.DataFrame(mdboot,columns=[\"Salary\"])\n",
    "ddboot=pd.DataFrame(ddboot,columns=[\"Salary\"])\n",
    "bdboot.hist()\n",
    "mdboot.hist()\n",
    "ddboot.hist()\n",
    "plt.show()"
   ]
  },
  {
   "cell_type": "code",
   "execution_count": 79,
   "id": "849c658b",
   "metadata": {},
   "outputs": [
    {
     "name": "stdout",
     "output_type": "stream",
     "text": [
      "[10747.04916348] [0.]\n"
     ]
    }
   ],
   "source": [
    "#SCIPY ANOVA for Bootstrapped Data\n",
    "f_value,p_value=sp.f_oneway(bdboot,mdboot,ddboot)\n",
    "print(f_value,p_value)"
   ]
  },
  {
   "cell_type": "code",
   "execution_count": 80,
   "id": "dc503f83",
   "metadata": {},
   "outputs": [
    {
     "name": "stdout",
     "output_type": "stream",
     "text": [
      "297.7161310388138 1.162211766750728e-118\n",
      "The variances are not homogeneous (reject H0).\n"
     ]
    }
   ],
   "source": [
    "#LEVENE TEST for Bootstrapped Datasets\n",
    "stats,p=sp.levene(bdboot.Salary,mdboot.Salary,ddboot.Salary)\n",
    "print(stats,p)\n",
    "\n",
    "if p > 0.05:\n",
    "    print(\"The variances are homogeneous (fail to reject H0).\")\n",
    "else:\n",
    "    print(\"The variances are not homogeneous (reject H0).\")"
   ]
  },
  {
   "cell_type": "code",
   "execution_count": 84,
   "id": "cae68328",
   "metadata": {},
   "outputs": [
    {
     "data": {
      "image/png": "[encoded data removed]",
      "text/plain": [
       "<Figure size 640x480 with 1 Axes>"
      ]
     },
     "metadata": {},
     "output_type": "display_data"
    }
   ],
   "source": [
    "#plotting the bootstrapped datasets in a single graph\n",
    "plt.hist(bdboot,label=\"Bachelor's Salary\")\n",
    "plt.hist(mdboot,label=\"Master's Salary\")\n",
    "plt.hist(ddboot,label=\"Doctoral Salary\")\n",
    "plt.legend()\n",
    "plt.show()"
   ]
  },
  {
   "cell_type": "code",
   "execution_count": 85,
   "id": "6f180db5",
   "metadata": {},
   "outputs": [
    {
     "data": {
      "image/png": "[encoded data removed]",
      "text/plain": [
       "<Figure size 640x480 with 1 Axes>"
      ]
     },
     "metadata": {},
     "output_type": "display_data"
    }
   ],
   "source": [
    "#plotting the difference between the means of the bootstrapped datasets in a single graph\n",
    "diff_bm=np.abs(bdboot.Salary-mdboot.Salary)\n",
    "diff_md=np.abs(mdboot.Salary-ddboot.Salary)\n",
    "diff_db=np.abs(ddboot.Salary-bdboot.Salary)\n",
    "plt.hist(diff_bm,label=\"Bachelor & Master diff\")\n",
    "plt.hist(diff_md,label=\"Master & Doctoral diff\")\n",
    "plt.hist(diff_db,label=\"Bachelor & Doctoral diff\")\n",
    "plt.legend()\n",
    "plt.show()"
   ]
  },
  {
   "cell_type": "code",
   "execution_count": null,
   "id": "af98040b",
   "metadata": {},
   "outputs": [],
   "source": []
  }
 ],
 "metadata": {
  "kernelspec": {
   "display_name": "Python 3 (ipykernel)",
   "language": "python",
   "name": "python3"
  },
  "language_info": {
   "codemirror_mode": {
    "name": "ipython",
    "version": 3
   },
   "file_extension": ".py",
   "mimetype": "text/x-python",
   "name": "python",
   "nbconvert_exporter": "python",
   "pygments_lexer": "ipython3",
   "version": "3.9.13"
  }
 },
 "nbformat": 4,
 "nbformat_minor": 5
}
